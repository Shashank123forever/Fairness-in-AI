{
  "nbformat": 4,
  "nbformat_minor": 0,
  "metadata": {
    "colab": {
      "name": "Dbias run.ipynb",
      "provenance": []
    },
    "kernelspec": {
      "name": "python3",
      "display_name": "Python 3"
    },
    "language_info": {
      "name": "python"
    },
    "accelerator": "GPU"
  },
  "cells": [
    {
      "cell_type": "code",
      "execution_count": null,
      "metadata": {
        "id": "fOpjwTH9JplU"
      },
      "outputs": [],
      "source": [
        "!pip install Dbias\n",
        "!pip install https://huggingface.co/d4data/en_pipeline/resolve/main/en_pipeline-any-py3-none-any.whl"
      ]
    },
    {
      "cell_type": "code",
      "source": [
        "from Dbias.text_debiasing import * \n",
        "\n",
        "# returns unbiased recommendations for a given sentence fragment.\n",
        "run(\"Billie Eilish issues apology for mouthing an anti-Asian derogatory term in a resurfaced video.\", show_plot = True)"
      ],
      "metadata": {
        "id": "OpcoTE1GJvVy"
      },
      "execution_count": null,
      "outputs": []
    },
    {
      "cell_type": "code",
      "source": [
        "from Dbias.bias_classification import *\n",
        "\n",
        "# returns classification label for a given sentence fragment.\n",
        "classifier(\"Nevertheless, Trump and other Republicans have tarred the protests as havens for terrorists intent on destroying property.\")"
      ],
      "metadata": {
        "id": "kLiGpDoAJ0jc"
      },
      "execution_count": null,
      "outputs": []
    },
    {
      "cell_type": "code",
      "source": [
        "from Dbias.bias_recognition import *\n",
        "\n",
        "# returns extracted biased entities from a given sentence fragment\n",
        "recognizer(\"Christians should make clear that the perpetuation of objectionable vaccines and the lack of alternatives is a kind of coercion.\")"
      ],
      "metadata": {
        "id": "k-F-yLGLJ2FC"
      },
      "execution_count": null,
      "outputs": []
    },
    {
      "cell_type": "code",
      "source": [
        "from Dbias.bias_masking import *\n",
        "\n",
        "# returns extracted biased entities from a given sentence fragment\n",
        "masking(\"The fact that the abortion rate among American blacks is far higher than the rate for whites is routinely chronicled and mourned.\")"
      ],
      "metadata": {
        "id": "8PzrCDS8J4Md"
      },
      "execution_count": null,
      "outputs": []
    }
  ]
}